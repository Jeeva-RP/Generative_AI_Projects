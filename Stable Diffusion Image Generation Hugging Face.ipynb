!pip install diffusers transformers accelerate scipy ftfy

from diffusers import StableDiffusionPipeline
import torch

# Authenticating with Hugging Face (free account required)
from huggingface_hub import login

# Hugging Face token
print("Sign in to Hugging Face and get your token from https://huggingface.co/settings/tokens")
hf_token = input("Enter your Hugging Face token: ")
login(hf_token)

# we have to load  the Stable Diffusion model
print("Downloading and loading the Stable Diffusion model...")
pipeline = StableDiffusionPipeline.from_pretrained("runwayml/stable-diffusion-v1-5")
pipeline.to("cuda")  # we have to Use GPU for faster generation

# Prompting
prompt = input("Enter a description for the image: ")

print("Generating image...")
image = pipeline(prompt, num_inference_steps=50).images[0]

# Generated image
image.show()

# Saving the image
image.save("generated_image.png")
print("Image saved as 'generated_image.png'")

pipeline

# Generating an image from text prompt
prompt = input("Enter a description for the image: ")

print("Generating image...")
image = pipeline(prompt, num_inference_steps=50).images[0]

# Displaying the generated image
image.show()

# Saving the image locally
image.save("generated_image.png")
print("Image saved as 'generated_image.png'")
