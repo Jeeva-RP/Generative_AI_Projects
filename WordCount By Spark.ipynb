!pip install pyspark

from pyspark.sql import SparkSession

spark = SparkSession.builder.appName("WordCount").getOrCreate()

text_file = spark.read.text("/content/file.txt")

word_count = text_file.selectExpr("explode(split(value, ' ')) as word").groupBy("word").count()

word_count.show()
